{
  "nbformat": 4,
  "nbformat_minor": 0,
  "metadata": {
    "colab": {
      "provenance": [],
      "mount_file_id": "1P84TvBTFcl9kA23uB2Sn9XSzl7UW3s-f",
      "authorship_tag": "ABX9TyP6Y1A9wyTED3UAvDZpIztU",
      "include_colab_link": true
    },
    "kernelspec": {
      "name": "python3",
      "display_name": "Python 3"
    },
    "language_info": {
      "name": "python"
    }
  },
  "cells": [
    {
      "cell_type": "markdown",
      "metadata": {
        "id": "view-in-github",
        "colab_type": "text"
      },
      "source": [
        "<a href=\"https://colab.research.google.com/github/RaghavSrivastava25/Waste-Wise/blob/main/Waste_Classifier.ipynb\" target=\"_parent\"><img src=\"https://colab.research.google.com/assets/colab-badge.svg\" alt=\"Open In Colab\"/></a>"
      ]
    },
    {
      "cell_type": "code",
      "execution_count": 1,
      "metadata": {
        "id": "jmeaQbKIUmU_"
      },
      "outputs": [],
      "source": [
        "import numpy as np\n",
        "import pandas as pd \n",
        "import matplotlib.pyplot as plt\n",
        "import tensorflow\n",
        "from tqdm import tqdm\n",
        "import cv2\n",
        "\n",
        "import warnings\n",
        "warnings.filterwarnings('ignore')\n",
        "import os\n",
        "for dirname, _, _ in os.walk('/kaggle/input'):\n",
        "        print(dirname)"
      ]
    },
    {
      "cell_type": "code",
      "source": [
        "test_path = \"/content/drive/MyDrive/DATASET/DATASET/TEST\"\n",
        "train_path = \"/content/drive/MyDrive/DATASET/DATASET/TRAIN\""
      ],
      "metadata": {
        "id": "haMXtpaMU0o5"
      },
      "execution_count": 2,
      "outputs": []
    },
    {
      "cell_type": "code",
      "source": [
        "from keras.models import Sequential \n",
        "from keras.layers import Conv2D, MaxPooling2D, Activation, Dropout, Flatten, Dense, BatchNormalization\n",
        "from keras.preprocessing.image import ImageDataGenerator\n",
        "from tensorflow.keras.preprocessing.image import img_to_array, load_img\n",
        "from keras.utils.vis_utils import plot_model\n",
        "from glob import glob"
      ],
      "metadata": {
        "id": "vOQBNu6dU1MF"
      },
      "execution_count": 3,
      "outputs": []
    },
    {
      "cell_type": "code",
      "source": [
        "x_data = [] \n",
        "y_data = [] \n",
        "\n",
        "for category in glob(train_path+'/*'):\n",
        "    for file in tqdm(glob(category+'/*')):\n",
        "        img_array=cv2.imread(file)\n",
        "        img_array = cv2.cvtColor(img_array, cv2.COLOR_BGR2RGB)\n",
        "        x_data.append(img_array) \n",
        "        y_data.append(category.split(\"/\")[-1])\n",
        "        \n",
        "data=pd.DataFrame({'image': x_data,'label': y_data})"
      ],
      "metadata": {
        "colab": {
          "base_uri": "https://localhost:8080/"
        },
        "id": "9vNMv_NnU1PS",
        "outputId": "25113887-a49c-4860-b342-6dbd7424855e"
      },
      "execution_count": null,
      "outputs": [
        {
          "output_type": "stream",
          "name": "stderr",
          "text": [
            "  1%|          | 129/12610 [01:28<67:59:06, 19.61s/it]"
          ]
        }
      ]
    },
    {
      "cell_type": "code",
      "source": [
        "data.shape"
      ],
      "metadata": {
        "id": "VcNRUu0XU1Sv"
      },
      "execution_count": null,
      "outputs": []
    },
    {
      "cell_type": "code",
      "source": [
        "from collections import Counter\n",
        "Counter(y_data)"
      ],
      "metadata": {
        "id": "FUYbR67xmYSq"
      },
      "execution_count": null,
      "outputs": []
    },
    {
      "cell_type": "code",
      "source": [
        "colors = ['#a0d157','#c48bb8']\n",
        "plt.pie(data.label.value_counts(),startangle=90,explode=[0.05,0.05],autopct='%0.2f%%',\n",
        "        labels=['Organic', 'Recyclable'], colors= colors,radius=2)\n",
        "plt.show()"
      ],
      "metadata": {
        "id": "Dbb5tk17mYfI"
      },
      "execution_count": null,
      "outputs": []
    },
    {
      "cell_type": "code",
      "source": [
        "plt.figure(figsize=(20,15))\n",
        "for i in range(9):\n",
        "    plt.subplot(4,3,(i%12)+1)\n",
        "    index=np.random.randint(15000)\n",
        "    plt.title('This image is of {0}'.format(data.label[index]),fontdict={'size':20,'weight':'bold'})\n",
        "    plt.imshow(data.image[index])\n",
        "    plt.tight_layout()"
      ],
      "metadata": {
        "id": "AtTWq5-pmYqF"
      },
      "execution_count": null,
      "outputs": []
    },
    {
      "cell_type": "code",
      "source": [
        "className = glob(train_path + '/*' )\n",
        "numberOfClass = len(className)\n",
        "print(\"Number Of Class: \",numberOfClass)"
      ],
      "metadata": {
        "id": "KQG8BC04mYuw"
      },
      "execution_count": null,
      "outputs": []
    },
    {
      "cell_type": "code",
      "source": [
        "model = Sequential()\n",
        "model.add(Conv2D(32,(3,3),input_shape = (224,224,3)))\n",
        "model.add(Activation(\"relu\"))\n",
        "model.add(MaxPooling2D())\n",
        "\n",
        "model.add(Conv2D(64,(3,3)))  \n",
        "model.add(Activation(\"relu\"))\n",
        "model.add(MaxPooling2D())\n",
        "\n",
        "model.add(Conv2D(128,(3,3)))\n",
        "model.add(Activation(\"relu\"))\n",
        "model.add(MaxPooling2D())\n",
        "\n",
        "model.add(Flatten())\n",
        "model.add(Dense(256))\n",
        "model.add(Activation(\"relu\"))\n",
        "model.add(Dropout(0.5))\n",
        "model.add(Dense(64))\n",
        "model.add(Activation(\"relu\"))\n",
        "model.add(Dropout(0.5))\n",
        "model.add(Dense(numberOfClass)) # output\n",
        "model.add(Activation(\"sigmoid\"))\n",
        "\n",
        "model.compile(loss = \"binary_crossentropy\",\n",
        "              optimizer = \"adam\",\n",
        "              metrics = [\"accuracy\"])\n",
        "\n",
        "batch_size = 256"
      ],
      "metadata": {
        "id": "5kTHleYJmYyY"
      },
      "execution_count": null,
      "outputs": []
    },
    {
      "cell_type": "code",
      "source": [
        "plot_model(model)"
      ],
      "metadata": {
        "id": "oOWlcglgmY2k"
      },
      "execution_count": null,
      "outputs": []
    },
    {
      "cell_type": "code",
      "source": [
        "train_datagen = ImageDataGenerator(rescale= 1./255)"
      ],
      "metadata": {
        "id": "0Z-Bf5HSmY8l"
      },
      "execution_count": null,
      "outputs": []
    },
    {
      "cell_type": "code",
      "source": [
        "test_datagen = ImageDataGenerator(rescale= 1./255)"
      ],
      "metadata": {
        "id": "bzGRFA_RmZCG"
      },
      "execution_count": null,
      "outputs": []
    },
    {
      "cell_type": "code",
      "source": [
        "train_generator = train_datagen.flow_from_directory(\n",
        "        train_path, \n",
        "        target_size= (224,224),\n",
        "        batch_size = batch_size,\n",
        "        color_mode= \"rgb\",\n",
        "        class_mode= \"categorical\")\n",
        "\n",
        "test_generator = test_datagen.flow_from_directory(\n",
        "        test_path, \n",
        "        target_size= (224,224),\n",
        "        batch_size = batch_size,\n",
        "        color_mode= \"rgb\",\n",
        "        class_mode= \"categorical\")"
      ],
      "metadata": {
        "id": "9wjfrVnAmZI4"
      },
      "execution_count": null,
      "outputs": []
    },
    {
      "cell_type": "code",
      "source": [
        "hist = model.fit_generator(\n",
        "        generator = train_generator,\n",
        "        epochs=10,\n",
        "        validation_data = test_generator)"
      ],
      "metadata": {
        "id": "x6sdvy8WmZUU"
      },
      "execution_count": null,
      "outputs": []
    },
    {
      "cell_type": "code",
      "source": [
        "plt.figure(figsize=[10,6])\n",
        "plt.plot(hist.history[\"accuracy\"], label = \"Train acc\")\n",
        "plt.plot(hist.history[\"val_accuracy\"], label = \"Validation acc\")\n",
        "plt.legend()\n",
        "plt.show()"
      ],
      "metadata": {
        "id": "kVDZ7kABmZsU"
      },
      "execution_count": null,
      "outputs": []
    },
    {
      "cell_type": "code",
      "source": [
        "plt.figure(figsize=(10,6))\n",
        "plt.plot(hist.history['loss'], label = \"Train loss\")\n",
        "plt.plot(hist.history['val_loss'], label = \"Validation loss\")\n",
        "plt.legend()\n",
        "plt.show()"
      ],
      "metadata": {
        "id": "mB2hKbkumZ3U"
      },
      "execution_count": null,
      "outputs": []
    },
    {
      "cell_type": "code",
      "source": [
        "def predict_func(img): \n",
        "    plt.figure(figsize=(6,4))\n",
        "    plt.imshow(cv2.cvtColor(img, cv2.COLOR_BGR2RGB))\n",
        "    plt.tight_layout()\n",
        "    img = cv2.resize(img, (224, 224))\n",
        "    img = np.reshape(img, [-1, 224, 224,3])\n",
        "    result = np.argmax(model.predict(img))\n",
        "    if result == 0: print(\"\\033[94m\"+\"This image -> Recyclable\"+\"\\033[0m\")\n",
        "    elif result ==1: print(\"\\033[94m\"+\"This image -> Organic\"+\"\\033[0m\")"
      ],
      "metadata": {
        "id": "R4LXZAS1U1XY"
      },
      "execution_count": null,
      "outputs": []
    },
    {
      "cell_type": "code",
      "source": [
        "test_img = cv2.imread(\"/kaggle/input/waste-classification-data/DATASET/TEST/O/O_12573.jpg\")\n",
        "predict_func(test_img)"
      ],
      "metadata": {
        "id": "hzqpqrtEm8Z2"
      },
      "execution_count": null,
      "outputs": []
    },
    {
      "cell_type": "code",
      "source": [
        "test_img = cv2.imread(\"/kaggle/input/waste-classification-data/DATASET/TEST/R/R_10753.jpg\")\n",
        "predict_func(test_img)"
      ],
      "metadata": {
        "id": "ZsEWSUQ2m8fS"
      },
      "execution_count": null,
      "outputs": []
    },
    {
      "cell_type": "code",
      "source": [
        "from google.colab import drive\n",
        "drive.mount('/content/drive')"
      ],
      "metadata": {
        "id": "qEF8yDTJOpNz"
      },
      "execution_count": null,
      "outputs": []
    },
    {
      "cell_type": "code",
      "source": [],
      "metadata": {
        "id": "45rhddZrm8jk"
      },
      "execution_count": null,
      "outputs": []
    },
    {
      "cell_type": "code",
      "source": [],
      "metadata": {
        "id": "yBEJIWZYm8mb"
      },
      "execution_count": null,
      "outputs": []
    },
    {
      "cell_type": "code",
      "source": [],
      "metadata": {
        "id": "KLzdcB4bm831"
      },
      "execution_count": null,
      "outputs": []
    },
    {
      "cell_type": "code",
      "source": [],
      "metadata": {
        "id": "hURESfmbm87T"
      },
      "execution_count": null,
      "outputs": []
    },
    {
      "cell_type": "code",
      "source": [],
      "metadata": {
        "id": "vZL9afD5U1aP"
      },
      "execution_count": null,
      "outputs": []
    }
  ]
}